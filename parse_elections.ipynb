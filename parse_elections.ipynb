{
 "cells": [
  {
   "cell_type": "markdown",
   "metadata": {
    "collapsed": true
   },
   "source": [
    "## parse_elections \n",
    "\n",
    "Find the party-to-party transfer matrix for Northern Ireland's 2016 MLA election, using data from [Elections NI](http://electionsni.org.s3-website-eu-west-1.amazonaws.com/data/).\n",
    "\n",
    "Table is read whereby row, column indicates transfers _from_ row and _to_ column. "
   ]
  },
  {
   "cell_type": "code",
   "execution_count": 1,
   "metadata": {
    "collapsed": false
   },
   "outputs": [
    {
     "ename": "ImportError",
     "evalue": "No module named request",
     "output_type": "error",
     "traceback": [
      "\u001b[0;31m---------------------------------------------------------------------------\u001b[0m",
      "\u001b[0;31mImportError\u001b[0m                               Traceback (most recent call last)",
      "\u001b[0;32m<ipython-input-1-40005bb674e3>\u001b[0m in \u001b[0;36m<module>\u001b[0;34m()\u001b[0m\n\u001b[1;32m      7\u001b[0m \u001b[0;32mimport\u001b[0m \u001b[0mpandas\u001b[0m \u001b[0;32mas\u001b[0m \u001b[0mpd\u001b[0m\u001b[0;34m\u001b[0m\u001b[0m\n\u001b[1;32m      8\u001b[0m \u001b[0;32mfrom\u001b[0m \u001b[0mglob\u001b[0m \u001b[0;32mimport\u001b[0m \u001b[0mglob\u001b[0m\u001b[0;34m\u001b[0m\u001b[0m\n\u001b[0;32m----> 9\u001b[0;31m \u001b[0;32mfrom\u001b[0m \u001b[0murllib\u001b[0m\u001b[0;34m.\u001b[0m\u001b[0mrequest\u001b[0m \u001b[0;32mimport\u001b[0m \u001b[0murlretrieve\u001b[0m\u001b[0;34m\u001b[0m\u001b[0m\n\u001b[0m\u001b[1;32m     10\u001b[0m \u001b[0;34m\u001b[0m\u001b[0m\n\u001b[1;32m     11\u001b[0m \u001b[0mpd\u001b[0m\u001b[0;34m.\u001b[0m\u001b[0moptions\u001b[0m\u001b[0;34m.\u001b[0m\u001b[0mdisplay\u001b[0m\u001b[0;34m.\u001b[0m\u001b[0mmax_columns\u001b[0m \u001b[0;34m=\u001b[0m \u001b[0;36m100\u001b[0m\u001b[0;34m\u001b[0m\u001b[0m\n",
      "\u001b[0;31mImportError\u001b[0m: No module named request"
     ]
    }
   ],
   "source": [
    "from IPython.core.interactiveshell import InteractiveShell\n",
    "InteractiveShell.ast_node_interactivity = \"all\"\n",
    "\n",
    "import zipfile\n",
    "import os.path\n",
    "import numpy as np \n",
    "import pandas as pd \n",
    "from glob import glob \n",
    "from urllib.request import urlretrieve\n",
    "\n",
    "pd.options.display.max_columns = 100\n",
    "\n",
    "%matplotlib inline"
   ]
  },
  {
   "cell_type": "markdown",
   "metadata": {},
   "source": [
    "Download and unzip."
   ]
  },
  {
   "cell_type": "code",
   "execution_count": 2,
   "metadata": {
    "collapsed": false
   },
   "outputs": [],
   "source": [
    "if not os.path.exists('mla2016.zip'):\n",
    "    urlretrieve (\n",
    "        'http://electionsni.org.s3-website-eu-west-1.amazonaws.com/2016/2016_archive_datapackage.zip',\n",
    "        'mla2016.zip'\n",
    "    )\n",
    "    with zipfile.ZipFile('mla2016.zip') as zip_ref:\n",
    "        zip_ref.extractall('data')"
   ]
  },
  {
   "cell_type": "code",
   "execution_count": 3,
   "metadata": {
    "collapsed": false
   },
   "outputs": [],
   "source": [
    "def process_transfer_table(df):\n",
    "    \"\"\"Parse an Elections NI constituency count DataFrame to extract\n",
    "    the matrix of party-to-party transfers.\n",
    "    \"\"\"\n",
    "    df = df.assign(Fullname=df.Firstname + ' ' + df.Surname)\n",
    "    transfers = (df.loc[:, ['Count_Number', 'Fullname',\n",
    "                            'Transfers', 'Total_Votes', 'Party_Name']]\n",
    "                   .pivot(index='Count_Number', \n",
    "                         columns='Fullname', \n",
    "                         values='Transfers'))\n",
    "    party_map = dict(df.loc[df.Count_Number == 1].set_index('Fullname')['Party_Name'])\n",
    "    party_map['votes_lost'] = 'votes_lost'\n",
    "\n",
    "    profile = pd.DataFrame(np.zeros((len(transfers.columns) + 1, len(transfers.columns) + 1)))\n",
    "    profile.index = transfers.columns.tolist() + ['votes_lost']\n",
    "    profile.columns = transfers.columns.tolist() + ['votes_lost']\n",
    "\n",
    "    for _, row in transfers.iterrows():\n",
    "        donators = row.index[row < 0]\n",
    "        n_donators = len(donators)\n",
    "        \n",
    "        votes_lost = -1 * row[row < 0].sum() \n",
    "        votes_gained = row[row > 0].sum() \n",
    "        \n",
    "        # If there are multiple parties losing votes, credit is distributed\n",
    "        # evenly since it is impossible to figure out who donated where.\n",
    "        # Fortunately this is rare.\n",
    "        if n_donators:\n",
    "            for donator in donators:\n",
    "                row_maxed = np.maximum(row, 0)\n",
    "                profile.loc[donator, profile.columns != 'votes_lost'] += row_maxed / n_donators\n",
    "                profile.loc[donator, 'votes_lost'] += votes_lost - votes_gained \n",
    "    \n",
    "    # return profile\n",
    "    parties = set(df.Party_Name)\n",
    "    parties.add('votes_lost')\n",
    "    party_prof = pd.DataFrame(np.zeros((len(parties), len(parties))))\n",
    "    party_prof.index = parties \n",
    "    party_prof.columns = parties\n",
    "\n",
    "    for candidate, row in profile.iterrows():\n",
    "        cand_party = party_map[candidate]\n",
    "        row_mapped = row.copy() \n",
    "        row_mapped.index = [party_map[x] for x in row.index]\n",
    "        row_grpd = row_mapped.groupby(by = row_mapped.index).sum()\n",
    "        party_prof[cand_party] += row_grpd\n",
    "\n",
    "    return party_prof.T\n",
    "\n",
    "\n",
    "def get_total_fps(df):\n",
    "    df = df.assign(Fullname=df.Firstname + ' ' + df.Surname)\n",
    "    fps = df.loc[df.Count_Number == 1].set_index('Fullname')['Total_Votes']\n",
    "    return fps.groupby(fps.index).sum()"
   ]
  },
  {
   "cell_type": "markdown",
   "metadata": {},
   "source": [
    "Make the _total_ matrix of party-to-party transfers countrywide. This is saved both as absolute vote totals (`transfers.csv`) and as a row-normalised relative amount (`transfers_rel.csv`)."
   ]
  },
  {
   "cell_type": "code",
   "execution_count": 4,
   "metadata": {
    "collapsed": false
   },
   "outputs": [],
   "source": [
    "def row_normalise(M):\n",
    "    M = M.copy()\n",
    "    for party, row in M.iterrows():\n",
    "        M.loc[M.index == party] /= row.sum()\n",
    "    return M\n",
    "\n",
    "def set_nans_to_lost(M):\n",
    "    M = M.copy()\n",
    "    for party, row in M.iterrows():\n",
    "        if np.any(row.isnull()):\n",
    "            M.loc[M.index == party] = 0 \n",
    "            M.loc[M.index == party, 'votes_lost'] = 1\n",
    "    return M\n",
    "\n",
    "profiles = {}\n",
    "relative_profiles = {}\n",
    "fps = {}\n",
    "for filename in glob('data/2016_archive_datapackage/constituency/*/Count.csv'):\n",
    "    df = pd.DataFrame.from_csv(filename)\n",
    "    profiles[filename] = process_transfer_table(df)\n",
    "    relative_profiles[filename] = set_nans_to_lost(row_normalise(profiles[filename]))\n",
    "    fps[filename] = get_total_fps(df)"
   ]
  },
  {
   "cell_type": "code",
   "execution_count": 5,
   "metadata": {
    "collapsed": false
   },
   "outputs": [],
   "source": [
    "all_transfers = pd.DataFrame() \n",
    "\n",
    "for _, constituency_votes in profiles.items():\n",
    "    all_transfers = all_transfers.add(constituency_votes, fill_value=0)\n",
    "\n",
    "all_transfers = all_transfers.fillna(0)\n",
    "\n",
    "all_transfers = set_nans_to_lost(row_normalise(all_transfers))\n",
    "\n",
    "all_transfers.to_csv('transfers_relative.csv')"
   ]
  }
 ],
 "metadata": {
  "kernelspec": {
   "display_name": "Python [conda root]",
   "language": "python",
   "name": "conda-root-py"
  },
  "language_info": {
   "codemirror_mode": {
    "name": "ipython",
    "version": 2
   },
   "file_extension": ".py",
   "mimetype": "text/x-python",
   "name": "python",
   "nbconvert_exporter": "python",
   "pygments_lexer": "ipython2",
   "version": "2.7.12"
  }
 },
 "nbformat": 4,
 "nbformat_minor": 2
}
