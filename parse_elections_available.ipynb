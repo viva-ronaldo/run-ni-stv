{
 "cells": [
  {
   "cell_type": "markdown",
   "metadata": {
    "collapsed": true
   },
   "source": [
    "## parse_elections \n",
    "\n",
    "Adapted from DexGroves's code.\n",
    "\n",
    "Find the party-to-party transfer matrix for Northern Ireland's 2016 MLA election, using data from [Elections NI](http://electionsni.org.s3-website-eu-west-1.amazonaws.com/data/).\n",
    "\n",
    "Table is read whereby row, column indicates transfers _from_ row and _to_ column. "
   ]
  },
  {
   "cell_type": "code",
   "execution_count": 1,
   "metadata": {
    "collapsed": true
   },
   "outputs": [],
   "source": [
    "from IPython.core.interactiveshell import InteractiveShell\n",
    "InteractiveShell.ast_node_interactivity = \"all\"\n",
    "\n",
    "import os.path\n",
    "import numpy as np \n",
    "import pandas as pd \n",
    "from glob import glob \n",
    "\n",
    "pd.options.display.max_columns = 100\n",
    "\n",
    "%matplotlib inline"
   ]
  },
  {
   "cell_type": "markdown",
   "metadata": {},
   "source": [
    "Make the _total_ matrix of party-to-party transfers countrywide. This is saved both as absolute vote totals (`transfers.csv`) and as a row-normalised relative amount (`transfers_rel.csv`)."
   ]
  },
  {
   "cell_type": "code",
   "execution_count": 2,
   "metadata": {
    "collapsed": false
   },
   "outputs": [],
   "source": [
    "def getConstitDestinations(file):\n",
    "\n",
    "    df = pd.DataFrame.from_csv(file)\n",
    "    \n",
    "    stillIn = df['Candidate_Id']\n",
    "    stillIn = set(stillIn)\n",
    "    voteDestinations = {}\n",
    "    transferringCounts = {}\n",
    "    for c in range(2,df.Count_Number.max()+1):\n",
    "        #print c,stillIn\n",
    "        \n",
    "        #TODO: some transfers occur more than 1 count later, currently missed\n",
    "        transferring = df[(df.Count_Number==c) & (df.Occurred_On_Count==c-1) & (df.Transfers < 0)].Party_Name\n",
    "        \n",
    "        for cid in df[(df.Count_Number==c) & (df.Occurred_On_Count==c-1) & (df.Transfers < 0)].Candidate_Id:\n",
    "            stillIn.remove(cid)\n",
    "        for cid in df[(df.Count_Number==c) & (df.Occurred_On_Count==c-2) & (df.Transfers < 0)].Candidate_Id:\n",
    "            print '2 counts later removing',cid\n",
    "            stillIn.remove(cid)\n",
    "\n",
    "        if transferring.size == 1:\n",
    "            transferring = transferring.iloc[0]\n",
    "            if transferring in transferringCounts.keys():\n",
    "                transferringCounts[transferring] += 1\n",
    "                #TODO handle this case of two transfers from same party.\n",
    "                #for now skip the second case\n",
    "                continue\n",
    "            else:\n",
    "                transferringCounts[transferring] = 1\n",
    "            \n",
    "            #print transferring,c\n",
    "\n",
    "            totalVotesAvailable = -1*df[(df.Count_Number==c) & (df.Occurred_On_Count==c-1) & (df.Transfers < 0)].Transfers\n",
    "\n",
    "            transfersReceived = df[(df.Count_Number==c)].loc[:,['Candidate_Id','Party_Name','Transfers']]\n",
    "            transfersReceived = transfersReceived[transfersReceived.Transfers >= 0]  #exclude the transferrer\n",
    "            transfersReceived = transfersReceived[transfersReceived.Candidate_Id.isin(stillIn)]  #exclude those not available\n",
    "            transfersReceived = transfersReceived.assign(fracReceived = lambda x: x.Transfers/totalVotesAvailable)\n",
    "\n",
    "            fracLost = 1 - transfersReceived.fracReceived.sum()\n",
    "\n",
    "            newFractions = transfersReceived.apply(lambda x: x.to_dict(),axis=1).tolist()\n",
    "            for item in newFractions:\n",
    "                party = item['Party_Name']\n",
    "                if transferring in voteDestinations.keys():\n",
    "                    if party in voteDestinations[transferring].keys():\n",
    "                        voteDestinations[transferring][party] += item['fracReceived']\n",
    "                    else:\n",
    "                        voteDestinations[transferring][party] = item['fracReceived']\n",
    "                else:\n",
    "                    voteDestinations[transferring] = {party:item['fracReceived']}\n",
    "            voteDestinations[transferring]['votes_lost'] = fracLost\n",
    "            #print voteDestinations[transferring]\n",
    "            if sum(voteDestinations[transferring].values()) < 0.9999:\n",
    "                print 'missing some',sum(voteDestinations[transferring].values())\n",
    "        else:\n",
    "            pass\n",
    "    \n",
    "    return voteDestinations\n",
    "        \n",
    "#TODO: not correct yet. Have a SF self transfer = 0 in Mid Ulster.\n",
    "    \n",
    "#TODO: could also note count number applying to each transferring. Vote more likely to be lost\n",
    "#  if it is being passed from the party at a high count number\n"
   ]
  },
  {
   "cell_type": "code",
   "execution_count": 3,
   "metadata": {
    "collapsed": false
   },
   "outputs": [
    {
     "name": "stdout",
     "output_type": "stream",
     "text": [
      "2 counts later removing 226\n",
      "2 counts later removing 217\n",
      "data/2016_archive_datapackage/constituency/south-down/Count.csv 0.886484568996\n",
      "2 counts later removing 96\n",
      "2 counts later removing 150\n",
      "data/2016_archive_datapackage/constituency/mid-ulster/Count.csv 0.0\n",
      "data/2016_archive_datapackage/constituency/belfast-west/Count.csv 0.930916312469\n",
      "2 counts later removing 7\n",
      "data/2016_archive_datapackage/constituency/fermanagh-south-tyrone/Count.csv 0.911226811964\n",
      "data/2016_archive_datapackage/constituency/foyle/Count.csv 0.925497752087\n",
      "2 counts later removing 159\n",
      "2 counts later removing 168\n",
      "data/2016_archive_datapackage/constituency/belfast-north/Count.csv 0.74314893617\n"
     ]
    }
   ],
   "source": [
    "overallDests = {}\n",
    "for filename in glob('data/2016_archive_datapackage/constituency/*/Count.csv'):\n",
    "    voteDestinations = getConstitDestinations(filename)\n",
    "    if 'Sinn Fein' in voteDestinations.keys():\n",
    "        if 'Sinn Fein' in voteDestinations['Sinn Fein'].keys():\n",
    "            print filename,voteDestinations['Sinn Fein']['Sinn Fein']\n",
    "    \n",
    "    for donor in voteDestinations.keys():\n",
    "        if donor in overallDests.keys():\n",
    "            for dest in voteDestinations[donor]:\n",
    "                if dest in overallDests[donor].keys():\n",
    "                    overallDests[donor][dest][0] += 1\n",
    "                    overallDests[donor][dest][1] += voteDestinations[donor][dest]\n",
    "                else:\n",
    "                    overallDests[donor][dest] = [1,voteDestinations[donor][dest]]\n",
    "        else:\n",
    "            overallDests[donor] = {}\n",
    "            for dest in voteDestinations[donor].keys():\n",
    "                overallDests[donor][dest] = [1,voteDestinations[donor][dest]]\n",
    "\n",
    "#for dest in overallDests['Sinn Fein'].keys():\n",
    "#    print dest,overallDests['Sinn Fein'][dest][1] / overallDests['Sinn Fein'][dest][0]"
   ]
  },
  {
   "cell_type": "code",
   "execution_count": 4,
   "metadata": {
    "collapsed": false
   },
   "outputs": [],
   "source": [
    "dests = overallDests.keys()\n",
    "dests.append('votes_lost')\n",
    "#dests.insert(0,'DONOR')\n",
    "\n",
    "import csv\n",
    "with open('transferMatrix_rough.csv','w') as csvfile:\n",
    "    mywriter = csv.writer(csvfile)\n",
    "    mywriter.writerow(dests)\n",
    "    for donor in overallDests.keys():\n",
    "        newlist = [donor]\n",
    "        for dest in dests:\n",
    "            if dest in overallDests[donor].keys():\n",
    "                #print donor,dest,overallDests[donor][dest][1] / overallDests[donor][dest][0]\n",
    "                newlist.append(overallDests[donor][dest][1] / overallDests[donor][dest][0])\n",
    "            else:\n",
    "                #print donor,dest,'NaN'\n",
    "                newlist.append('NaN')\n",
    "        mywriter.writerow(newlist)"
   ]
  }
 ],
 "metadata": {
  "kernelspec": {
   "display_name": "Python 2",
   "language": "python",
   "name": "python2"
  },
  "language_info": {
   "codemirror_mode": {
    "name": "ipython",
    "version": 2
   },
   "file_extension": ".py",
   "mimetype": "text/x-python",
   "name": "python",
   "nbconvert_exporter": "python",
   "pygments_lexer": "ipython2",
   "version": "2.7.9"
  }
 },
 "nbformat": 4,
 "nbformat_minor": 2
}
